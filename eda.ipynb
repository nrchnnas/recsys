{
 "cells": [
  {
   "cell_type": "code",
   "execution_count": 27,
   "id": "6e56752e",
   "metadata": {},
   "outputs": [],
   "source": [
    "import pandas as pd\n",
    "import sqlite3\n",
    "import struct\n"
   ]
  },
  {
   "cell_type": "markdown",
   "id": "94092b0b",
   "metadata": {},
   "source": [
    "# Get Tables from DB into DataFrame"
   ]
  },
  {
   "cell_type": "code",
   "execution_count": 28,
   "id": "9d40d455",
   "metadata": {},
   "outputs": [],
   "source": [
    "conn = sqlite3.connect(\"book-rec-sys/books_recommendation.db\")\n",
    "cursor = conn.cursor()"
   ]
  },
  {
   "cell_type": "code",
   "execution_count": 5,
   "id": "50846229",
   "metadata": {},
   "outputs": [
    {
     "name": "stdout",
     "output_type": "stream",
     "text": [
      "books\n",
      "user_interactions\n",
      "sqlite_sequence\n"
     ]
    }
   ],
   "source": [
    "\n",
    "# Query to get table names\n",
    "cursor.execute(\"SELECT name FROM sqlite_master WHERE type='table';\")\n",
    "tables = cursor.fetchall()\n",
    "\n",
    "# Print table names\n",
    "for table in tables:\n",
    "    print(table[0])"
   ]
  },
  {
   "cell_type": "code",
   "execution_count": 22,
   "id": "75551191",
   "metadata": {},
   "outputs": [],
   "source": [
    "def decode_sqlite_binary_result(cursor, rows):\n",
    "    \"\"\"\n",
    "    Converts binary fields in SQLite rows to readable integers and returns column names.\n",
    "    \n",
    "    Args:\n",
    "        cursor (sqlite3.Cursor): Cursor used for the query (for getting column names).\n",
    "        rows (list of tuples): Rows returned from the query.\n",
    "\n",
    "    Returns:\n",
    "        tuple: (column_names, decoded_rows)\n",
    "    \"\"\"\n",
    "    column_names = [desc[0] for desc in cursor.description]\n",
    "    decoded_rows = []\n",
    "\n",
    "    for row in rows:\n",
    "        new_row = []\n",
    "        for value in row:\n",
    "            if isinstance(value, bytes) and len(value) == 8:\n",
    "                try:\n",
    "                    value = struct.unpack('<Q', value)[0]\n",
    "                except struct.error:\n",
    "                    pass  # Leave unchanged if unpacking fails\n",
    "            new_row.append(value)\n",
    "        decoded_rows.append(tuple(new_row))\n",
    "\n",
    "    return column_names, decoded_rows\n"
   ]
  },
  {
   "cell_type": "code",
   "execution_count": 23,
   "id": "9203d643",
   "metadata": {},
   "outputs": [],
   "source": [
    "cursor.execute(\"SELECT * FROM user_interactions;\")\n",
    "rows = cursor.fetchall()"
   ]
  },
  {
   "cell_type": "code",
   "execution_count": 24,
   "id": "5f21ead1",
   "metadata": {},
   "outputs": [],
   "source": [
    "column_names, decoded_rows = decode_sqlite_binary_result(cursor, rows)"
   ]
  },
  {
   "cell_type": "code",
   "execution_count": 25,
   "id": "78f84c81",
   "metadata": {},
   "outputs": [],
   "source": [
    "interactions_df = pd.DataFrame(decoded_rows, columns=column_names)"
   ]
  },
  {
   "cell_type": "code",
   "execution_count": 26,
   "id": "91fdfda7",
   "metadata": {},
   "outputs": [
    {
     "name": "stdout",
     "output_type": "stream",
     "text": [
      "<bound method NDFrame.head of       interaction_id  user_id   book_id  is_read  rating  is_reviewed\n",
      "0                  1        0    452196        1       4            0\n",
      "1                  2        0     12067        0       0            0\n",
      "2                  3        0    108905        1       4            1\n",
      "3                  4        0    178186        1       5            1\n",
      "4                  5        0    150731        0       0            0\n",
      "...              ...      ...       ...      ...     ...          ...\n",
      "1696            1697      226  25876779        1       3            0\n",
      "1697            1698      226   6369113        0       0            0\n",
      "1698            1699      226   8449713        0       0            0\n",
      "1699            1700      227   6320534        1       4            0\n",
      "1700            1701      227    349473        0       0            0\n",
      "\n",
      "[1701 rows x 6 columns]>\n"
     ]
    }
   ],
   "source": [
    "print(interactions_df.head)"
   ]
  },
  {
   "cell_type": "code",
   "execution_count": 29,
   "id": "f133b8e3",
   "metadata": {},
   "outputs": [],
   "source": [
    "conn.close()"
   ]
  },
  {
   "cell_type": "markdown",
   "id": "a6eaa621",
   "metadata": {},
   "source": [
    "# EDA"
   ]
  }
 ],
 "metadata": {
  "kernelspec": {
   "display_name": "Python 3",
   "language": "python",
   "name": "python3"
  },
  "language_info": {
   "codemirror_mode": {
    "name": "ipython",
    "version": 3
   },
   "file_extension": ".py",
   "mimetype": "text/x-python",
   "name": "python",
   "nbconvert_exporter": "python",
   "pygments_lexer": "ipython3",
   "version": "3.13.3"
  }
 },
 "nbformat": 4,
 "nbformat_minor": 5
}
