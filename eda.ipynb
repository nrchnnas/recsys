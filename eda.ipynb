{
 "cells": [
  {
   "cell_type": "code",
   "execution_count": 1,
   "id": "6e56752e",
   "metadata": {},
   "outputs": [],
   "source": [
    "import pandas as pd\n",
    "import sqlite3\n",
    "import numpy as np\n",
    "import matplotlib.pyplot as plt"
   ]
  },
  {
   "cell_type": "markdown",
   "id": "3b4b275e",
   "metadata": {},
   "source": [
    "# Get Data"
   ]
  },
  {
   "cell_type": "markdown",
   "id": "94092b0b",
   "metadata": {},
   "source": [
    "### Get Tables from DB into DataFrame"
   ]
  },
  {
   "cell_type": "code",
   "execution_count": 2,
   "id": "9d40d455",
   "metadata": {},
   "outputs": [],
   "source": [
    "conn = sqlite3.connect(\"books.db\")\n",
    "cursor = conn.cursor()"
   ]
  },
  {
   "cell_type": "code",
   "execution_count": 3,
   "id": "50846229",
   "metadata": {},
   "outputs": [
    {
     "name": "stdout",
     "output_type": "stream",
     "text": [
      "books\n"
     ]
    }
   ],
   "source": [
    "# Query to get table names\n",
    "cursor.execute(\"SELECT name FROM sqlite_master WHERE type='table';\")\n",
    "tables = cursor.fetchall()\n",
    "\n",
    "# Print table names\n",
    "for table in tables:\n",
    "    print(table[0])"
   ]
  },
  {
   "cell_type": "code",
   "execution_count": 4,
   "id": "5f21ead1",
   "metadata": {},
   "outputs": [],
   "source": [
    "query = cursor.execute(\"SELECT * FROM books;\")\n",
    "cols = [column[0] for column in query.description]\n",
    "genres_df = pd.DataFrame.from_records(data = query.fetchall(), columns = cols)"
   ]
  },
  {
   "cell_type": "code",
   "execution_count": 5,
   "id": "91fdfda7",
   "metadata": {},
   "outputs": [
    {
     "name": "stdout",
     "output_type": "stream",
     "text": [
      "<bound method NDFrame.head of                                                  authors  average_rating  \\\n",
      "0                 [{'author_id': '3041852', 'role': ''}]            4.13   \n",
      "1                   [{'author_id': '19158', 'role': ''}]            4.22   \n",
      "2                    [{'author_id': '5411', 'role': ''}]            4.43   \n",
      "3      [{'author_id': '589328', 'role': ''}, {'author...            4.29   \n",
      "4                  [{'author_id': '169159', 'role': ''}]            3.57   \n",
      "...                                                  ...             ...   \n",
      "99995               [{'author_id': '31468', 'role': ''}]            3.54   \n",
      "99996  [{'author_id': '1319428', 'role': ''}, {'autho...            3.77   \n",
      "99997             [{'author_id': '4874418', 'role': ''}]            4.27   \n",
      "99998  [{'author_id': '166573', 'role': ''}, {'author...            3.69   \n",
      "99999  [{'author_id': '6509355', 'role': ''}, {'autho...            3.69   \n",
      "\n",
      "        book_id                                        description  \\\n",
      "0        287141  Relates in vigorous prose the tale of Aeneas, ...   \n",
      "1       6066812  To Kara's astonishment, she discovers that a p...   \n",
      "2         89378  In Newbery Medalist Cynthia Rylant's classic b...   \n",
      "3       3209312                                                      \n",
      "4       1698376  WHAT DO YOU DO?\\nA hen lays eggs...\\nA cow giv...   \n",
      "...         ...                                                ...   \n",
      "99995    518599  Lauren would love to be part of the popular cr...   \n",
      "99996   3083335                                                      \n",
      "99997   2516186  Includes The Door to Time, The Long-Lost Map, ...   \n",
      "99998   1183371                                                      \n",
      "99999  28954183  From the award-winning author of Warning: Do N...   \n",
      "\n",
      "                             genres is_children is_comics_graphics  \\\n",
      "0       children, history_biography        True              False   \n",
      "1      children, fantasy_paranormal        True              False   \n",
      "2                          children        True              False   \n",
      "3                          children        True              False   \n",
      "4                          children        True              False   \n",
      "...                             ...         ...                ...   \n",
      "99995         children, young_adult        True              False   \n",
      "99996                      children        True              False   \n",
      "99997                      children        True              False   \n",
      "99998                      children        True              False   \n",
      "99999                      children        True              False   \n",
      "\n",
      "      is_fantasy_paranormal is_history_biography is_mystery_thriller_crime  \\\n",
      "0                     False                 True                     False   \n",
      "1                      True                False                     False   \n",
      "2                     False                False                     False   \n",
      "3                     False                False                     False   \n",
      "4                     False                False                     False   \n",
      "...                     ...                  ...                       ...   \n",
      "99995                 False                False                     False   \n",
      "99996                 False                False                     False   \n",
      "99997                 False                False                     False   \n",
      "99998                 False                False                     False   \n",
      "99999                 False                False                     False   \n",
      "\n",
      "      is_poetry is_romance is_young_adult num_pages  ratings_count  \\\n",
      "0         False      False          False       162             46   \n",
      "1         False      False          False       216             98   \n",
      "2         False      False          False        40           1331   \n",
      "3         False      False          False                       11   \n",
      "4         False      False          False        24             23   \n",
      "...         ...        ...            ...       ...            ...   \n",
      "99995     False      False           True       154            200   \n",
      "99996     False      False          False                       13   \n",
      "99997     False      False          False                       82   \n",
      "99998     False      False          False        32             13   \n",
      "99999     False      False          False        40            141   \n",
      "\n",
      "                     series  \\\n",
      "0                        []   \n",
      "1                ['151854']   \n",
      "2                        []   \n",
      "3                        []   \n",
      "4                        []   \n",
      "...                     ...   \n",
      "99995                    []   \n",
      "99996  ['649505', '649490']   \n",
      "99997            ['905493']   \n",
      "99998                    []   \n",
      "99999                    []   \n",
      "\n",
      "                                           similar_books  \\\n",
      "0                                                     []   \n",
      "1      ['948696', '439885', '274955', '12978730', '37...   \n",
      "2      ['834493', '452189', '140185', '1897316', '218...   \n",
      "3                                                     []   \n",
      "4                                                     []   \n",
      "...                                                  ...   \n",
      "99995  ['227667', '277782', '1533641', '514907', '937...   \n",
      "99996                                                 []   \n",
      "99997  ['120959', '733013', '1745128', '1775165', '64...   \n",
      "99998                                                 []   \n",
      "99999                                                 []   \n",
      "\n",
      "                                                   title  \\\n",
      "0                          The Aeneid for Boys and Girls   \n",
      "1      All's Fairy in Love and War (Avalon: Web of Ma...   \n",
      "2                                             Dog Heaven   \n",
      "3      Moths and Mothers, Feathers and Fathers: A Sto...   \n",
      "4                                        What Do You Do?   \n",
      "...                                                  ...   \n",
      "99995                                        Con-Fidence   \n",
      "99996                 Kai: The Lost Statue, Africa, 1440   \n",
      "99997  Ulysses Moore, Books 1-3: The Door to Time, Th...   \n",
      "99998                                        Giant Steps   \n",
      "99999                                 I Will Not Eat You   \n",
      "\n",
      "                                    title_without_series  \n",
      "0                          The Aeneid for Boys and Girls  \n",
      "1      All's Fairy in Love and War (Avalon: Web of Ma...  \n",
      "2                                             Dog Heaven  \n",
      "3      Moths and Mothers, Feathers and Fathers: A Sto...  \n",
      "4                                        What Do You Do?  \n",
      "...                                                  ...  \n",
      "99995                                        Con-Fidence  \n",
      "99996                 Kai: The Lost Statue, Africa, 1440  \n",
      "99997  Ulysses Moore, Books 1-3: The Door to Time, Th...  \n",
      "99998                                        Giant Steps  \n",
      "99999                                 I Will Not Eat You  \n",
      "\n",
      "[100000 rows x 19 columns]>\n"
     ]
    }
   ],
   "source": [
    "print(genres_df.head)"
   ]
  },
  {
   "cell_type": "code",
   "execution_count": 6,
   "id": "f133b8e3",
   "metadata": {},
   "outputs": [],
   "source": [
    "conn.close()"
   ]
  },
  {
   "cell_type": "markdown",
   "id": "a6eaa621",
   "metadata": {},
   "source": [
    "# EDA"
   ]
  },
  {
   "cell_type": "markdown",
   "id": "21902d2f",
   "metadata": {},
   "source": [
    "### For genres"
   ]
  },
  {
   "cell_type": "code",
   "execution_count": 7,
   "id": "fa469a8e",
   "metadata": {},
   "outputs": [
    {
     "data": {
      "image/png": "[encoded data removed]",
      "text/plain": [
       "<Figure size 1000x600 with 1 Axes>"
      ]
     },
     "metadata": {},
     "output_type": "display_data"
    }
   ],
   "source": [
    "# average rating across the genres\n",
    "\n",
    "# get genre columns \n",
    "genre_cols = [col for col in genres_df.columns if col.startswith(\"is_\")]\n",
    "\n",
    "# convert true/false to boolean\n",
    "for col in genre_cols:\n",
    "    genres_df[col] = genres_df[col].map({'TRUE': True, 'FALSE': False})\n",
    "\n",
    "# compute average rating per genre\n",
    "avg_ratings = {\n",
    "    col.replace(\"is_\", \"\").replace(\"_\", \" \").title(): genres_df[genres_df[col] == True]['average_rating'].mean()\n",
    "    for col in genre_cols\n",
    "}\n",
    "\n",
    "# convert to Series and sort\n",
    "avg_ratings_series = pd.Series(avg_ratings).sort_values(ascending=False)\n",
    "\n",
    "# plot\n",
    "plt.figure(figsize=(10, 6))\n",
    "plt.bar(avg_ratings_series.index, avg_ratings_series.values, color='mediumseagreen', edgecolor='black')\n",
    "\n",
    "plt.xticks(rotation=45, ha='right')\n",
    "plt.title(\"Average Rating by Genre\")\n",
    "plt.xlabel(\"Genre\")\n",
    "plt.ylabel(\"Average Rating\")\n",
    "plt.tight_layout()\n",
    "\n",
    "# add value labels above bars\n",
    "for i, v in enumerate(avg_ratings_series.values):\n",
    "    plt.text(i, v + 0.03, f\"{v:.2f}\", ha='center', va='bottom')\n",
    "\n",
    "plt.show()\n"
   ]
  },
  {
   "cell_type": "code",
   "execution_count": 11,
   "id": "1812b002",
   "metadata": {},
   "outputs": [
    {
     "name": "stdout",
     "output_type": "stream",
     "text": [
      "Index(['authors', 'average_rating', 'book_id', 'description', 'genres',\n",
      "       'is_children', 'is_comics_graphics', 'is_fantasy_paranormal',\n",
      "       'is_history_biography', 'is_mystery_thriller_crime', 'is_poetry',\n",
      "       'is_romance', 'is_young_adult', 'num_pages', 'ratings_count', 'series',\n",
      "       'similar_books', 'title', 'title_without_series'],\n",
      "      dtype='object')\n"
     ]
    }
   ],
   "source": [
    "print(genres_df.columns)"
   ]
  },
  {
   "cell_type": "code",
   "execution_count": 8,
   "id": "f4984319",
   "metadata": {},
   "outputs": [
    {
     "data": {
      "image/png": "[encoded data removed]",
      "text/plain": [
       "<Figure size 640x480 with 1 Axes>"
      ]
     },
     "metadata": {},
     "output_type": "display_data"
    }
   ],
   "source": [
    "# histogram of ratings across all genres \n",
    " \n",
    "plt.title(\"Distribution of Ratings\")\n",
    " \n",
    "counts, bins, patches = plt.hist(genres_df['average_rating'], bins=range(1, 7), align='left', edgecolor='black', color='mediumseagreen')\n",
    "for count, patch in zip(counts, patches):\n",
    "    plt.text(patch.get_x() + patch.get_width() / 2, count + 0.5, int(count), ha='center')"
   ]
  },
  {
   "cell_type": "code",
   "execution_count": 9,
   "id": "3a3835d9",
   "metadata": {},
   "outputs": [],
   "source": [
    "# get most popular books for each genre from highest ratings_count\n",
    "\n",
    "most_popular_books = {}\n",
    "\n",
    "for col in genre_cols:\n",
    "    genre_name = col.replace(\"is_\", \"\").replace(\"_\", \" \").title()\n",
    "    genre_books = genres_df[genres_df[col] == True]\n",
    "\n",
    "    if not genre_books.empty:\n",
    "        top_book = genre_books.loc[genre_books['ratings_count'].idxmax()]\n",
    "        most_popular_books[genre_name] = {\n",
    "            'title': top_book['title_without_series'],\n",
    "            'ratings_count': top_book['ratings_count']\n",
    "        }\n"
   ]
  },
  {
   "cell_type": "code",
   "execution_count": 10,
   "id": "afe471df",
   "metadata": {},
   "outputs": [
    {
     "ename": "AttributeError",
     "evalue": "'DataFrame' object has no attribute 'title'",
     "output_type": "error",
     "traceback": [
      "\u001b[31m---------------------------------------------------------------------------\u001b[39m",
      "\u001b[31mAttributeError\u001b[39m                            Traceback (most recent call last)",
      "\u001b[32m~\\AppData\\Local\\Temp\\ipykernel_16672\\3352883078.py\u001b[39m in \u001b[36m?\u001b[39m\u001b[34m()\u001b[39m\n\u001b[32m      4\u001b[39m mpb_df.rename(columns={\u001b[33m'index'\u001b[39m: \u001b[33m'genre'\u001b[39m}, inplace=\u001b[38;5;28;01mTrue\u001b[39;00m)\n\u001b[32m      5\u001b[39m \n\u001b[32m      6\u001b[39m \u001b[38;5;66;03m# plot\u001b[39;00m\n\u001b[32m      7\u001b[39m plt.figure(figsize=(\u001b[32m10\u001b[39m, \u001b[32m6\u001b[39m))\n\u001b[32m----> \u001b[39m\u001b[32m8\u001b[39m plt.bar(mpb_df.title, mpb_df.ratings_count, color=\u001b[33m'mediumseagreen'\u001b[39m, edgecolor=\u001b[33m'black'\u001b[39m)\n\u001b[32m      9\u001b[39m \n\u001b[32m     10\u001b[39m plt.xticks(rotation=\u001b[32m45\u001b[39m, ha=\u001b[33m'right'\u001b[39m)\n\u001b[32m     11\u001b[39m plt.title(\u001b[33m\"Highest Rating Count of Book in Each Genre\"\u001b[39m)\n",
      "\u001b[32mc:\\Users\\sirichada\\AppData\\Local\\Programs\\Python\\Python313\\Lib\\site-packages\\pandas\\core\\generic.py\u001b[39m in \u001b[36m?\u001b[39m\u001b[34m(self, name)\u001b[39m\n\u001b[32m   6295\u001b[39m             \u001b[38;5;28;01mand\u001b[39;00m name \u001b[38;5;28;01mnot\u001b[39;00m \u001b[38;5;28;01min\u001b[39;00m self._accessors\n\u001b[32m   6296\u001b[39m             \u001b[38;5;28;01mand\u001b[39;00m self._info_axis._can_hold_identifiers_and_holds_name(name)\n\u001b[32m   6297\u001b[39m         ):\n\u001b[32m   6298\u001b[39m             \u001b[38;5;28;01mreturn\u001b[39;00m self[name]\n\u001b[32m-> \u001b[39m\u001b[32m6299\u001b[39m         \u001b[38;5;28;01mreturn\u001b[39;00m object.__getattribute__(self, name)\n",
      "\u001b[31mAttributeError\u001b[39m: 'DataFrame' object has no attribute 'title'"
     ]
    },
    {
     "data": {
      "text/plain": [
       "<Figure size 1000x600 with 0 Axes>"
      ]
     },
     "metadata": {},
     "output_type": "display_data"
    }
   ],
   "source": [
    "# convert to df\n",
    "mpb_df = pd.DataFrame.from_dict(most_popular_books, orient='index')\n",
    "mpb_df.reset_index(inplace=True)\n",
    "mpb_df.rename(columns={'index': 'genre'}, inplace=True)\n",
    "\n",
    "# plot\n",
    "plt.figure(figsize=(10, 6))\n",
    "plt.bar(mpb_df.title, mpb_df.ratings_count, color='mediumseagreen', edgecolor='black')\n",
    "\n",
    "plt.xticks(rotation=45, ha='right')\n",
    "plt.title(\"Highest Rating Count of Book in Each Genre\")\n",
    "plt.xlabel(\"Book\")\n",
    "plt.ylabel(\"Rating Count\")\n",
    "plt.tight_layout()\n",
    "\n",
    "# add value labels above bars\n",
    "for i, v in enumerate(mpb_df.ratings_count):\n",
    "    plt.text(i, v + 0.03, f\"{v:.2f}\", ha='center', va='bottom')\n",
    "\n",
    "plt.show()\n"
   ]
  },
  {
   "cell_type": "code",
   "execution_count": null,
   "id": "a86912d1",
   "metadata": {},
   "outputs": [],
   "source": [
    "# plot\n",
    "plt.figure(figsize=(10, 6))\n",
    "plt.bar(mpb_df.genre, mpb_df.ratings_count, color='mediumseagreen', edgecolor='black')\n",
    "\n",
    "plt.xticks(rotation=45, ha='right')\n",
    "plt.title(\"Highest Rating Count of Book in Each Genre\")\n",
    "plt.xlabel(\"Book\")\n",
    "plt.ylabel(\"Rating Count\")\n",
    "plt.tight_layout()\n",
    "\n",
    "# add value labels above bars\n",
    "for i, v in enumerate(mpb_df.ratings_count):\n",
    "    plt.text(i, v + 0.03, f\"{v:.2f}\", ha='center', va='bottom')\n",
    "\n",
    "plt.show()\n"
   ]
  }
 ],
 "metadata": {
  "kernelspec": {
   "display_name": "Python 3",
   "language": "python",
   "name": "python3"
  },
  "language_info": {
   "codemirror_mode": {
    "name": "ipython",
    "version": 3
   },
   "file_extension": ".py",
   "mimetype": "text/x-python",
   "name": "python",
   "nbconvert_exporter": "python",
   "pygments_lexer": "ipython3",
   "version": "3.13.3"
  }
 },
 "nbformat": 4,
 "nbformat_minor": 5
}
