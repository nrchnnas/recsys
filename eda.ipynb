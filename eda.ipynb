{
 "cells": [
  {
   "cell_type": "code",
   "execution_count": 1,
   "id": "6e56752e",
   "metadata": {},
   "outputs": [],
   "source": [
    "import pandas as pd\n",
    "import sqlite3\n",
    "import numpy as np\n",
    "import matplotlib.pyplot as plt\n",
    "from scipy.stats import pearsonr"
   ]
  },
  {
   "cell_type": "markdown",
   "id": "3b4b275e",
   "metadata": {},
   "source": [
    "# Get Data"
   ]
  },
  {
   "cell_type": "markdown",
   "id": "94092b0b",
   "metadata": {},
   "source": [
    "### Get Tables from DB into DataFrame"
   ]
  },
  {
   "cell_type": "code",
   "execution_count": 2,
   "id": "9d40d455",
   "metadata": {},
   "outputs": [],
   "source": [
    "conn = sqlite3.connect(\"books.db\")\n",
    "cursor = conn.cursor()"
   ]
  },
  {
   "cell_type": "code",
   "execution_count": 3,
   "id": "50846229",
   "metadata": {},
   "outputs": [
    {
     "name": "stdout",
     "output_type": "stream",
     "text": [
      "books\n"
     ]
    }
   ],
   "source": [
    "# Query to get table names\n",
    "cursor.execute(\"SELECT name FROM sqlite_master WHERE type='table';\")\n",
    "tables = cursor.fetchall()\n",
    "\n",
    "# Print table names\n",
    "for table in tables:\n",
    "    print(table[0])"
   ]
  },
  {
   "cell_type": "code",
   "execution_count": 4,
   "id": "5f21ead1",
   "metadata": {},
   "outputs": [],
   "source": [
    "query = cursor.execute(\"SELECT * FROM books;\")\n",
    "cols = [column[0] for column in query.description]\n",
    "genres_df = pd.DataFrame.from_records(data = query.fetchall(), columns = cols)"
   ]
  },
  {
   "cell_type": "code",
   "execution_count": 5,
   "id": "91fdfda7",
   "metadata": {},
   "outputs": [
    {
     "name": "stdout",
     "output_type": "stream",
     "text": [
      "<bound method NDFrame.head of                                                  authors  average_rating  \\\n",
      "0                 [{'author_id': '3041852', 'role': ''}]            4.13   \n",
      "1                   [{'author_id': '19158', 'role': ''}]            4.22   \n",
      "2                    [{'author_id': '5411', 'role': ''}]            4.43   \n",
      "3      [{'author_id': '589328', 'role': ''}, {'author...            4.29   \n",
      "4                  [{'author_id': '169159', 'role': ''}]            3.57   \n",
      "...                                                  ...             ...   \n",
      "99995               [{'author_id': '31468', 'role': ''}]            3.54   \n",
      "99996  [{'author_id': '1319428', 'role': ''}, {'autho...            3.77   \n",
      "99997             [{'author_id': '4874418', 'role': ''}]            4.27   \n",
      "99998  [{'author_id': '166573', 'role': ''}, {'author...            3.69   \n",
      "99999  [{'author_id': '6509355', 'role': ''}, {'autho...            3.69   \n",
      "\n",
      "        book_id                                        description  \\\n",
      "0        287141  Relates in vigorous prose the tale of Aeneas, ...   \n",
      "1       6066812  To Kara's astonishment, she discovers that a p...   \n",
      "2         89378  In Newbery Medalist Cynthia Rylant's classic b...   \n",
      "3       3209312                                                      \n",
      "4       1698376  WHAT DO YOU DO?\\nA hen lays eggs...\\nA cow giv...   \n",
      "...         ...                                                ...   \n",
      "99995    518599  Lauren would love to be part of the popular cr...   \n",
      "99996   3083335                                                      \n",
      "99997   2516186  Includes The Door to Time, The Long-Lost Map, ...   \n",
      "99998   1183371                                                      \n",
      "99999  28954183  From the award-winning author of Warning: Do N...   \n",
      "\n",
      "                             genres is_children is_comics_graphics  \\\n",
      "0       children, history_biography        True              False   \n",
      "1      children, fantasy_paranormal        True              False   \n",
      "2                          children        True              False   \n",
      "3                          children        True              False   \n",
      "4                          children        True              False   \n",
      "...                             ...         ...                ...   \n",
      "99995         children, young_adult        True              False   \n",
      "99996                      children        True              False   \n",
      "99997                      children        True              False   \n",
      "99998                      children        True              False   \n",
      "99999                      children        True              False   \n",
      "\n",
      "      is_fantasy_paranormal is_history_biography is_mystery_thriller_crime  \\\n",
      "0                     False                 True                     False   \n",
      "1                      True                False                     False   \n",
      "2                     False                False                     False   \n",
      "3                     False                False                     False   \n",
      "4                     False                False                     False   \n",
      "...                     ...                  ...                       ...   \n",
      "99995                 False                False                     False   \n",
      "99996                 False                False                     False   \n",
      "99997                 False                False                     False   \n",
      "99998                 False                False                     False   \n",
      "99999                 False                False                     False   \n",
      "\n",
      "      is_poetry is_romance is_young_adult num_pages  ratings_count  \\\n",
      "0         False      False          False       162             46   \n",
      "1         False      False          False       216             98   \n",
      "2         False      False          False        40           1331   \n",
      "3         False      False          False                       11   \n",
      "4         False      False          False        24             23   \n",
      "...         ...        ...            ...       ...            ...   \n",
      "99995     False      False           True       154            200   \n",
      "99996     False      False          False                       13   \n",
      "99997     False      False          False                       82   \n",
      "99998     False      False          False        32             13   \n",
      "99999     False      False          False        40            141   \n",
      "\n",
      "                     series  \\\n",
      "0                        []   \n",
      "1                ['151854']   \n",
      "2                        []   \n",
      "3                        []   \n",
      "4                        []   \n",
      "...                     ...   \n",
      "99995                    []   \n",
      "99996  ['649505', '649490']   \n",
      "99997            ['905493']   \n",
      "99998                    []   \n",
      "99999                    []   \n",
      "\n",
      "                                           similar_books  \\\n",
      "0                                                     []   \n",
      "1      ['948696', '439885', '274955', '12978730', '37...   \n",
      "2      ['834493', '452189', '140185', '1897316', '218...   \n",
      "3                                                     []   \n",
      "4                                                     []   \n",
      "...                                                  ...   \n",
      "99995  ['227667', '277782', '1533641', '514907', '937...   \n",
      "99996                                                 []   \n",
      "99997  ['120959', '733013', '1745128', '1775165', '64...   \n",
      "99998                                                 []   \n",
      "99999                                                 []   \n",
      "\n",
      "                                                   title  \\\n",
      "0                          The Aeneid for Boys and Girls   \n",
      "1      All's Fairy in Love and War (Avalon: Web of Ma...   \n",
      "2                                             Dog Heaven   \n",
      "3      Moths and Mothers, Feathers and Fathers: A Sto...   \n",
      "4                                        What Do You Do?   \n",
      "...                                                  ...   \n",
      "99995                                        Con-Fidence   \n",
      "99996                 Kai: The Lost Statue, Africa, 1440   \n",
      "99997  Ulysses Moore, Books 1-3: The Door to Time, Th...   \n",
      "99998                                        Giant Steps   \n",
      "99999                                 I Will Not Eat You   \n",
      "\n",
      "                                    title_without_series  \n",
      "0                          The Aeneid for Boys and Girls  \n",
      "1      All's Fairy in Love and War (Avalon: Web of Ma...  \n",
      "2                                             Dog Heaven  \n",
      "3      Moths and Mothers, Feathers and Fathers: A Sto...  \n",
      "4                                        What Do You Do?  \n",
      "...                                                  ...  \n",
      "99995                                        Con-Fidence  \n",
      "99996                 Kai: The Lost Statue, Africa, 1440  \n",
      "99997  Ulysses Moore, Books 1-3: The Door to Time, Th...  \n",
      "99998                                        Giant Steps  \n",
      "99999                                 I Will Not Eat You  \n",
      "\n",
      "[100000 rows x 19 columns]>\n"
     ]
    }
   ],
   "source": [
    "print(genres_df.head)"
   ]
  },
  {
   "cell_type": "code",
   "execution_count": 6,
   "id": "f133b8e3",
   "metadata": {},
   "outputs": [],
   "source": [
    "conn.close()"
   ]
  },
  {
   "cell_type": "code",
   "execution_count": 7,
   "id": "950b620c",
   "metadata": {},
   "outputs": [
    {
     "data": {
      "text/plain": [
       "authors                       object\n",
       "average_rating               float64\n",
       "book_id                        int64\n",
       "description                   object\n",
       "genres                        object\n",
       "is_children                   object\n",
       "is_comics_graphics            object\n",
       "is_fantasy_paranormal         object\n",
       "is_history_biography          object\n",
       "is_mystery_thriller_crime     object\n",
       "is_poetry                     object\n",
       "is_romance                    object\n",
       "is_young_adult                object\n",
       "num_pages                     object\n",
       "ratings_count                  int64\n",
       "series                        object\n",
       "similar_books                 object\n",
       "title                         object\n",
       "title_without_series          object\n",
       "dtype: object"
      ]
     },
     "execution_count": 7,
     "metadata": {},
     "output_type": "execute_result"
    }
   ],
   "source": [
    "genres_df.dtypes"
   ]
  },
  {
   "cell_type": "markdown",
   "id": "a6eaa621",
   "metadata": {},
   "source": [
    "# EDA"
   ]
  },
  {
   "cell_type": "markdown",
   "id": "21902d2f",
   "metadata": {},
   "source": [
    "### For genres"
   ]
  },
  {
   "cell_type": "code",
   "execution_count": 8,
   "id": "f4984319",
   "metadata": {},
   "outputs": [
    {
     "data": {
      "image/png": "[encoded data removed]",
      "text/plain": [
       "<Figure size 640x480 with 1 Axes>"
      ]
     },
     "metadata": {},
     "output_type": "display_data"
    }
   ],
   "source": [
    "# histogram of ratings across all genres \n",
    " \n",
    "plt.title(\"Distribution of Ratings\")\n",
    " \n",
    "counts, bins, patches = plt.hist(genres_df['average_rating'], bins=range(1, 7), align='left', edgecolor='black', color='mediumseagreen')\n",
    "for count, patch in zip(counts, patches):\n",
    "    plt.text(patch.get_x() + patch.get_width() / 2, count + 0.5, int(count), ha='center')"
   ]
  },
  {
   "cell_type": "code",
   "execution_count": 9,
   "id": "f4c8fd0b",
   "metadata": {},
   "outputs": [
    {
     "name": "stdout",
     "output_type": "stream",
     "text": [
      "more stats from describe() method:\n",
      "       average_rating       book_id  ratings_count\n",
      "count   100000.000000  1.000000e+05   1.000000e+05\n",
      "mean         3.911249  1.060296e+07   5.036760e+02\n",
      "std          0.364896  1.018308e+07   9.426244e+03\n",
      "min          0.000000  5.000000e+00   0.000000e+00\n",
      "25%          3.710000  1.415525e+06   1.000000e+01\n",
      "50%          3.940000  7.094745e+06   3.100000e+01\n",
      "75%          4.140000  1.817522e+07   9.700000e+01\n",
      "max          5.000000  3.646988e+07   1.876252e+06\n"
     ]
    }
   ],
   "source": [
    "# get mean, median, mode, and standard deviation of ratings and ratings count\n",
    "\n",
    "print(\"more stats from describe() method:\")\n",
    "print(genres_df.describe())"
   ]
  },
  {
   "cell_type": "code",
   "execution_count": 10,
   "id": "6c3dab0f",
   "metadata": {},
   "outputs": [
    {
     "name": "stdout",
     "output_type": "stream",
     "text": [
      "Top 5 Highest Rated Books Based on average_rating:\n",
      "1. Tricycle and Friends: True-Life Adventures of a Three-Legged Golden Retriever and His Rescued Farm Animal Friends - Rating: 5.0, Number of Ratings: 3\n",
      "2. Rockets & Spaceflight - Rating: 5.0, Number of Ratings: 1\n",
      "3. Cyril the Dragon (The Jellybean the Dragon Stories #2) - Rating: 5.0, Number of Ratings: 16\n",
      "4. Pooke and Kark In The Ark - Rating: 5.0, Number of Ratings: 1\n",
      "5. Prairie Dog Play Days Includes Little Stinker & Bald Eagle Rules - Rating: 5.0, Number of Ratings: 2\n",
      "\n",
      "Bottom 5 Lowest Rated Books Based on average_rating:\n",
      "1. The True Story of Christmas - Rating: 0.0, Number of Ratings: 0\n",
      "2. The Musicians of Bremen - Rating: 0.0, Number of Ratings: 0\n",
      "3. Unknown Book 7672844 - Rating: 0.0, Number of Ratings: 0\n",
      "4. The Orphan Band of Springdale - Rating: 0.0, Number of Ratings: 0\n",
      "5. Kwanzaa an African American Holiday - Rating: 0.0, Number of Ratings: 0\n"
     ]
    }
   ],
   "source": [
    "highest_rated = genres_df.sort_values('average_rating', ascending=False).head(5)\n",
    "lowest_rated = genres_df.sort_values('average_rating', ascending=True).head(5)\n",
    "\n",
    "# Print the highest rated books based on average_rating \n",
    "print(\"Top 5 Highest Rated Books Based on average_rating:\")\n",
    "for i, (index, book) in enumerate(highest_rated.iterrows(), 1):\n",
    "    print(f\"{i}. {book['title']} - Rating: {book['average_rating']}, Number of Ratings: {book['ratings_count']}\")\n",
    "\n",
    "# Print the lowest rated books based on average_rating\n",
    "print(\"\\nBottom 5 Lowest Rated Books Based on average_rating:\")\n",
    "for i, (index, book) in enumerate(lowest_rated.iterrows(), 1):\n",
    "    print(f\"{i}. {book['title']} - Rating: {book['average_rating']}, Number of Ratings: {book['ratings_count']}\")"
   ]
  },
  {
   "cell_type": "code",
   "execution_count": 11,
   "id": "4777a2d7",
   "metadata": {},
   "outputs": [
    {
     "name": "stdout",
     "output_type": "stream",
     "text": [
      "Top 5 Highest Rated Books Based on ratings_count:\n",
      "1. Harry Potter and the Prisoner of Azkaban (Harry Potter, #3) - Number of Ratings: 1876252, Rating: 4.53\n",
      "2. The Little Prince - Number of Ratings: 763309, Rating: 4.28\n",
      "3. The Secret Garden - Number of Ratings: 652211, Rating: 4.12\n",
      "4. Where the Wild Things Are - Number of Ratings: 635947, Rating: 4.22\n",
      "5. Anne of Green Gables (Anne of Green Gables, #1) - Number of Ratings: 513174, Rating: 4.23\n",
      "\n",
      "Bottom 5 Lowest Rated Books Based on ratings_count:\n",
      "1. Drip, Drop - Number of Ratings: 0, Rating: 3.67\n",
      "2. Alice's äfventyr i sagolandet - Number of Ratings: 0, Rating: 4.0\n",
      "3. Pirate Diary: The Journal of Jake Carpenter - Number of Ratings: 0, Rating: 4.07\n",
      "4. The Kids' Multicultural Cookbook: Food & Fun Around the World - Number of Ratings: 0, Rating: 4.23\n",
      "5. Eggs over Evie - Number of Ratings: 0, Rating: 3.78\n"
     ]
    }
   ],
   "source": [
    "highest_rated = genres_df.sort_values('ratings_count', ascending=False).head(5)\n",
    "lowest_rated = genres_df.sort_values('ratings_count', ascending=True).head(5)\n",
    "\n",
    "# Print the highest rated books based on ratings_count\n",
    "print(\"Top 5 Highest Rated Books Based on ratings_count:\")\n",
    "for i, (index, book) in enumerate(highest_rated.iterrows(), 1):\n",
    "    print(f\"{i}. {book['title']} - Number of Ratings: {book['ratings_count']}, Rating: {book['average_rating']}\")\n",
    "\n",
    "# Print the lowest rated books based on ratings_count \n",
    "print(\"\\nBottom 5 Lowest Rated Books Based on ratings_count:\")\n",
    "for i, (index, book) in enumerate(lowest_rated.iterrows(), 1):\n",
    "    print(f\"{i}. {book['title']} - Number of Ratings: {book['ratings_count']}, Rating: {book['average_rating']}\")"
   ]
  },
  {
   "cell_type": "code",
   "execution_count": 12,
   "id": "0ae865bf",
   "metadata": {},
   "outputs": [
    {
     "name": "stdout",
     "output_type": "stream",
     "text": [
      "\n",
      "Pearson correlation coefficient: 0.0281\n",
      "P-value: 5.7392e-19\n"
     ]
    },
    {
     "data": {
      "image/png": "[encoded data removed]",
      "text/plain": [
       "<Figure size 1000x600 with 1 Axes>"
      ]
     },
     "metadata": {},
     "output_type": "display_data"
    }
   ],
   "source": [
    "filtered_books = genres_df[['ratings_count', 'average_rating']].dropna()\n",
    "\n",
    "# Scatter plot\n",
    "plt.figure(figsize=(10, 6))\n",
    "plt.scatter(filtered_books['ratings_count'], filtered_books['average_rating'], alpha=0.5, color='blue')\n",
    "plt.xlabel('Ratings Count')\n",
    "plt.ylabel('Average Rating')\n",
    "plt.title('Correlation Between Ratings Count and Average Rating')\n",
    "plt.grid(True)\n",
    "\n",
    "# Add regression line\n",
    "x = filtered_books['ratings_count']\n",
    "y = filtered_books['average_rating']\n",
    "m, b = np.polyfit(x, y, 1)\n",
    "plt.plot(x, m * x + b, color='red', linestyle='--', label='Trend Line')\n",
    "\n",
    "# Compute correlation coefficient\n",
    "corr_coef, p_value = pearsonr(x, y)\n",
    "print(f\"\\nPearson correlation coefficient: {corr_coef:.4f}\")\n",
    "print(f\"P-value: {p_value:.4e}\")\n",
    "\n",
    "plt.legend()\n",
    "plt.tight_layout()\n",
    "plt.show()"
   ]
  }
 ],
 "metadata": {
  "kernelspec": {
   "display_name": "Python 3",
   "language": "python",
   "name": "python3"
  },
  "language_info": {
   "codemirror_mode": {
    "name": "ipython",
    "version": 3
   },
   "file_extension": ".py",
   "mimetype": "text/x-python",
   "name": "python",
   "nbconvert_exporter": "python",
   "pygments_lexer": "ipython3",
   "version": "3.13.3"
  }
 },
 "nbformat": 4,
 "nbformat_minor": 5
}
