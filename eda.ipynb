{
 "cells": [
  {
   "cell_type": "code",
   "execution_count": 2,
   "id": "6e56752e",
   "metadata": {},
   "outputs": [],
   "source": [
    "import pandas as pd\n",
    "import sqlite3\n",
    "import struct\n",
    "import matplotlib.pyplot as plt"
   ]
  },
  {
   "cell_type": "markdown",
   "id": "3b4b275e",
   "metadata": {},
   "source": [
    "# Get Data"
   ]
  },
  {
   "cell_type": "markdown",
   "id": "94092b0b",
   "metadata": {},
   "source": [
    "### Get Tables from DB into DataFrame"
   ]
  },
  {
   "cell_type": "code",
   "execution_count": 17,
   "id": "9d40d455",
   "metadata": {},
   "outputs": [],
   "source": [
    "conn = sqlite3.connect(\"books.db\")\n",
    "cursor = conn.cursor()"
   ]
  },
  {
   "cell_type": "code",
   "execution_count": 18,
   "id": "50846229",
   "metadata": {},
   "outputs": [
    {
     "name": "stdout",
     "output_type": "stream",
     "text": [
      "books\n"
     ]
    }
   ],
   "source": [
    "# Query to get table names\n",
    "cursor.execute(\"SELECT name FROM sqlite_master WHERE type='table';\")\n",
    "tables = cursor.fetchall()\n",
    "\n",
    "# Print table names\n",
    "for table in tables:\n",
    "    print(table[0])"
   ]
  },
  {
   "cell_type": "code",
   "execution_count": 25,
   "id": "5f21ead1",
   "metadata": {},
   "outputs": [],
   "source": [
    "query = cursor.execute(\"SELECT * FROM books;\")\n",
    "cols = [column[0] for column in query.description]\n",
    "genres_df = pd.DataFrame.from_records(data = query.fetchall(), columns = cols)"
   ]
  },
  {
   "cell_type": "code",
   "execution_count": 26,
   "id": "91fdfda7",
   "metadata": {},
   "outputs": [
    {
     "name": "stdout",
     "output_type": "stream",
     "text": [
      "<bound method NDFrame.head of                                                   authors  average_rating  \\\n",
      "0                  [{'author_id': '3041852', 'role': ''}]            4.13   \n",
      "1                    [{'author_id': '19158', 'role': ''}]            4.22   \n",
      "2                     [{'author_id': '5411', 'role': ''}]            4.43   \n",
      "3       [{'author_id': '589328', 'role': ''}, {'author...            4.29   \n",
      "4                   [{'author_id': '169159', 'role': ''}]            3.57   \n",
      "...                                                   ...             ...   \n",
      "199995  [{'author_id': '465863', 'role': ''}, {'author...            3.92   \n",
      "199996             [{'author_id': '5827362', 'role': ''}]            3.67   \n",
      "199997                [{'author_id': '3565', 'role': ''}]            3.89   \n",
      "199998             [{'author_id': '7390210', 'role': ''}]            4.32   \n",
      "199999               [{'author_id': '38550', 'role': ''}]            4.45   \n",
      "\n",
      "         book_id                        genres is_children is_comics_graphics  \\\n",
      "0         287141   children, history_biography        TRUE              FALSE   \n",
      "1        6066812  children, fantasy_paranormal        TRUE              FALSE   \n",
      "2          89378                      children        TRUE              FALSE   \n",
      "3        3209312                      children        TRUE              FALSE   \n",
      "4        1698376                      children        TRUE              FALSE   \n",
      "...          ...                           ...         ...                ...   \n",
      "199995  23472307            fantasy_paranormal       FALSE              FALSE   \n",
      "199996  23290878            fantasy_paranormal       FALSE              FALSE   \n",
      "199997  32792249            fantasy_paranormal       FALSE              FALSE   \n",
      "199998  25922040            fantasy_paranormal       FALSE              FALSE   \n",
      "199999  25922041            fantasy_paranormal       FALSE              FALSE   \n",
      "\n",
      "       is_fantasy_paranormal is_history_biography is_mystery_thriller_crime  \\\n",
      "0                      FALSE                 TRUE                     FALSE   \n",
      "1                       TRUE                FALSE                     FALSE   \n",
      "2                      FALSE                FALSE                     FALSE   \n",
      "3                      FALSE                FALSE                     FALSE   \n",
      "4                      FALSE                FALSE                     FALSE   \n",
      "...                      ...                  ...                       ...   \n",
      "199995                  TRUE                FALSE                     FALSE   \n",
      "199996                  TRUE                FALSE                     FALSE   \n",
      "199997                  TRUE                FALSE                     FALSE   \n",
      "199998                  TRUE                FALSE                     FALSE   \n",
      "199999                  TRUE                FALSE                     FALSE   \n",
      "\n",
      "       is_poetry is_romance is_young_adult num_pages  ratings_count  \\\n",
      "0          FALSE      FALSE          FALSE       162             46   \n",
      "1          FALSE      FALSE          FALSE       216             98   \n",
      "2          FALSE      FALSE          FALSE        40           1331   \n",
      "3          FALSE      FALSE          FALSE                       11   \n",
      "4          FALSE      FALSE          FALSE        24             23   \n",
      "...          ...        ...            ...       ...            ...   \n",
      "199995     FALSE      FALSE          FALSE                       20   \n",
      "199996     FALSE      FALSE          FALSE       107              5   \n",
      "199997     FALSE      FALSE          FALSE        72             15   \n",
      "199998     FALSE      FALSE          FALSE                      266   \n",
      "199999     FALSE      FALSE          FALSE       448           1184   \n",
      "\n",
      "                                series  \\\n",
      "0                                   []   \n",
      "1                           ['151854']   \n",
      "2                                   []   \n",
      "3                                   []   \n",
      "4                                   []   \n",
      "...                                ...   \n",
      "199995                              []   \n",
      "199996                              []   \n",
      "199997                              []   \n",
      "199998                      ['755468']   \n",
      "199999  ['558590', '598628', '675269']   \n",
      "\n",
      "                                            similar_books  \\\n",
      "0                                                      []   \n",
      "1       ['948696', '439885', '274955', '12978730', '37...   \n",
      "2       ['834493', '452189', '140185', '1897316', '218...   \n",
      "3                                                      []   \n",
      "4                                                      []   \n",
      "...                                                   ...   \n",
      "199995                                                 []   \n",
      "199996                                                 []   \n",
      "199997  ['2700389', '1196467', '1814793', '634559', '1...   \n",
      "199998  ['25845201', '27411345', '25159315', '23129080...   \n",
      "199999  ['17608111', '20753341', '17163514', '20404905...   \n",
      "\n",
      "                                     title_without_series  \n",
      "0                           The Aeneid for Boys and Girls  \n",
      "1       All's Fairy in Love and War (Avalon: Web of Ma...  \n",
      "2                                              Dog Heaven  \n",
      "3       Moths and Mothers, Feathers and Fathers: A Sto...  \n",
      "4                                         What Do You Do?  \n",
      "...                                                   ...  \n",
      "199995   The Elder Codex (The Harrison Peel Files Book 3)  \n",
      "199996                            Pembleton, PhD Volume 1  \n",
      "199997                         El fantasma de Canterville  \n",
      "199998                     Saint's Blood (Greatcoats, #3)  \n",
      "199999               The Bands of Mourning (Mistborn, #6)  \n",
      "\n",
      "[200000 rows x 17 columns]>\n"
     ]
    }
   ],
   "source": [
    "print(genres_df.head)"
   ]
  },
  {
   "cell_type": "code",
   "execution_count": 27,
   "id": "f133b8e3",
   "metadata": {},
   "outputs": [],
   "source": [
    "conn.close()"
   ]
  },
  {
   "cell_type": "markdown",
   "id": "a6eaa621",
   "metadata": {},
   "source": [
    "# EDA"
   ]
  },
  {
   "cell_type": "markdown",
   "id": "21902d2f",
   "metadata": {},
   "source": [
    "### For genres"
   ]
  },
  {
   "cell_type": "code",
   "execution_count": null,
   "id": "fa469a8e",
   "metadata": {},
   "outputs": [
    {
     "data": {
      "image/png": "[encoded data removed]",
      "text/plain": [
       "<Figure size 1000x600 with 1 Axes>"
      ]
     },
     "metadata": {},
     "output_type": "display_data"
    }
   ],
   "source": [
    "# average rating across the genres\n",
    "\n",
    "import matplotlib.pyplot as plt\n",
    "\n",
    "# Step 1: Identify all genre indicator columns\n",
    "genre_cols = [col for col in genres_df.columns if col.startswith(\"is_\")]\n",
    "\n",
    "# Step 2: Compute average rating per genre\n",
    "avg_ratings = {\n",
    "    col.replace(\"is_\", \"\").replace(\"_\", \" \").title(): genres_df[genres_df[col] == True]['average_rating'].mean()\n",
    "    for col in genre_cols\n",
    "}\n",
    "\n",
    "# Step 3: Convert to Series and sort\n",
    "avg_ratings_series = pd.Series(avg_ratings).sort_values(ascending=False)\n",
    "\n",
    "# Step 4: Plot\n",
    "plt.figure(figsize=(10, 6))\n",
    "plt.bar(avg_ratings_series.index, avg_ratings_series.values, color='mediumseagreen', edgecolor='black')\n",
    "\n",
    "plt.xticks(rotation=45, ha='right')\n",
    "plt.title(\"Average Rating by Genre\")\n",
    "plt.xlabel(\"Genre\")\n",
    "plt.ylabel(\"Average Rating\")\n",
    "plt.tight_layout()\n",
    "\n",
    "# Add value labels above bars\n",
    "for i, v in enumerate(avg_ratings_series.values):\n",
    "    plt.text(i, v + 0.03, f\"{v:.2f}\", ha='center', va='bottom')\n",
    "\n",
    "plt.show()\n",
    "\n",
    "\n"
   ]
  },
  {
   "cell_type": "code",
   "execution_count": null,
   "id": "f4984319",
   "metadata": {},
   "outputs": [
    {
     "data": {
      "image/png": "[encoded data removed]",
      "text/plain": [
       "<Figure size 640x480 with 1 Axes>"
      ]
     },
     "metadata": {},
     "output_type": "display_data"
    }
   ],
   "source": [
    "# histogram of ratings across all genres \n",
    " \n",
    "plt.title(\"Distribution of Ratings\")\n",
    " \n",
    "counts, bins, patches = plt.hist(genres_df['average_rating'], bins=range(1, 7), align='left', edgecolor='black', color='mediumseagreen')\n",
    "for count, patch in zip(counts, patches):\n",
    "    plt.text(patch.get_x() + patch.get_width() / 2, count + 0.5, int(count), ha='center')"
   ]
  },
  {
   "cell_type": "code",
   "execution_count": null,
   "id": "1d8a632d",
   "metadata": {},
   "outputs": [],
   "source": []
  }
 ],
 "metadata": {
  "kernelspec": {
   "display_name": "Python 3",
   "language": "python",
   "name": "python3"
  },
  "language_info": {
   "codemirror_mode": {
    "name": "ipython",
    "version": 3
   },
   "file_extension": ".py",
   "mimetype": "text/x-python",
   "name": "python",
   "nbconvert_exporter": "python",
   "pygments_lexer": "ipython3",
   "version": "3.13.3"
  }
 },
 "nbformat": 4,
 "nbformat_minor": 5
}
